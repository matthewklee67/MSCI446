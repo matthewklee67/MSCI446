{
 "cells": [
  {
   "cell_type": "code",
   "execution_count": 3,
   "id": "a73b7baa",
   "metadata": {},
   "outputs": [],
   "source": [
    "import numpy as np\n",
    "import wfdb\n",
    "import glob"
   ]
  },
  {
   "cell_type": "code",
   "execution_count": 4,
   "id": "4652bca8",
   "metadata": {},
   "outputs": [
    {
     "name": "stdout",
     "output_type": "stream",
     "text": [
      "49 ['mitdb/118.atr', 'mitdb/124.atr', 'mitdb/119.atr', 'mitdb/122.atr', 'mitdb/123.atr', 'mitdb/121.atr', 'mitdb/109.atr', 'mitdb/108.atr', 'mitdb/219.atr', 'mitdb/231.atr', 'mitdb/230.atr', 'mitdb/232.atr', 'mitdb/233.atr', 'mitdb/223.atr', 'mitdb/222.atr', 'mitdb/220.atr', 'mitdb/234.atr', 'mitdb/208.atr', 'mitdb/209.atr', 'mitdb/221.atr', 'mitdb/210.atr', 'mitdb/205.atr', 'mitdb/213.atr', 'mitdb/207.atr', 'mitdb/212.atr', 'mitdb/202.atr', 'mitdb/102-0.atr', 'mitdb/203.atr', 'mitdb/217.atr', 'mitdb/201.atr', 'mitdb/215.atr', 'mitdb/228.atr', 'mitdb/214.atr', 'mitdb/200.atr', 'mitdb/111.atr', 'mitdb/105.atr', 'mitdb/104.atr', 'mitdb/106.atr', 'mitdb/112.atr', 'mitdb/113.atr', 'mitdb/107.atr', 'mitdb/103.atr', 'mitdb/117.atr', 'mitdb/116.atr', 'mitdb/102.atr', 'mitdb/114.atr', 'mitdb/100.atr', 'mitdb/101.atr', 'mitdb/115.atr']\n"
     ]
    }
   ],
   "source": [
    "data_files = glob.glob(\"mitdb/*.atr\")\n",
    "print(len(data_files), data_files)"
   ]
  },
  {
   "cell_type": "code",
   "execution_count": 21,
   "id": "77390a0f",
   "metadata": {},
   "outputs": [
    {
     "name": "stdout",
     "output_type": "stream",
     "text": [
      "Processing mitdb/118\n",
      "Processing mitdb/124\n",
      "Processing mitdb/119\n",
      "Processing mitdb/122\n",
      "Processing mitdb/123\n",
      "Processing mitdb/121\n",
      "Processing mitdb/109\n",
      "Processing mitdb/108\n",
      "Processing mitdb/219\n",
      "Processing mitdb/231\n",
      "Processing mitdb/230\n",
      "Processing mitdb/232\n",
      "Processing mitdb/233\n",
      "Processing mitdb/223\n",
      "Processing mitdb/222\n",
      "Processing mitdb/220\n",
      "Processing mitdb/234\n",
      "Processing mitdb/208\n",
      "Processing mitdb/209\n",
      "Processing mitdb/221\n",
      "Processing mitdb/210\n",
      "Processing mitdb/205\n",
      "Processing mitdb/213\n",
      "Processing mitdb/207\n",
      "Processing mitdb/212\n",
      "Processing mitdb/202\n",
      "Processing mitdb/102\n",
      "Processing mitdb/203\n",
      "Processing mitdb/217\n",
      "Processing mitdb/201\n",
      "Processing mitdb/215\n",
      "Processing mitdb/228\n",
      "Processing mitdb/214\n",
      "Processing mitdb/200\n",
      "Processing mitdb/111\n",
      "Processing mitdb/105\n",
      "Processing mitdb/104\n",
      "Processing mitdb/106\n",
      "Processing mitdb/112\n",
      "Processing mitdb/113\n",
      "Processing mitdb/107\n",
      "Processing mitdb/103\n",
      "Processing mitdb/117\n",
      "Processing mitdb/116\n",
      "Processing mitdb/102\n",
      "Processing mitdb/114\n",
      "Processing mitdb/100\n",
      "Processing mitdb/101\n",
      "Processing mitdb/115\n"
     ]
    }
   ],
   "source": [
    "master = {}\n",
    "for file in data_files:\n",
    "    file_id = file[:9]\n",
    "    patient_id = file_id[-3:]\n",
    "    print(f'Processing {file_id}')\n",
    "    record = wfdb.rdrecord(file_id)\n",
    "    annotation = wfdb.rdann(file_id, 'atr')\n",
    "    master[patient_id] = {}\n",
    "    master[patient_id]['ecg'] = record.p_signal\n",
    "    master[patient_id]['peak_idx'] = annotation.sample\n",
    "    \n",
    "    new_aux_note = ['']*len(annotation.aux_note)\n",
    "    current_label = annotation.aux_note[0]\n",
    "    for i in range(len(annotation.aux_note)):\n",
    "        if annotation.aux_note[i] != '':\n",
    "            current_label = annotation.aux_note[i]\n",
    "        new_aux_note[i] = current_label\n",
    "        \n",
    "    master[patient_id]['labels'] = new_aux_note\n",
    "    "
   ]
  }
 ],
 "metadata": {
  "kernelspec": {
   "display_name": "Python 3 (ipykernel)",
   "language": "python",
   "name": "python3"
  },
  "language_info": {
   "codemirror_mode": {
    "name": "ipython",
    "version": 3
   },
   "file_extension": ".py",
   "mimetype": "text/x-python",
   "name": "python",
   "nbconvert_exporter": "python",
   "pygments_lexer": "ipython3",
   "version": "3.9.6"
  }
 },
 "nbformat": 4,
 "nbformat_minor": 5
}
