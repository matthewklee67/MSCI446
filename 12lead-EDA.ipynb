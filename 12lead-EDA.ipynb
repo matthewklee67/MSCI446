{
 "cells": [
  {
   "cell_type": "code",
   "execution_count": 33,
   "id": "b529c976",
   "metadata": {},
   "outputs": [],
   "source": [
    "import numpy as np\n",
    "import wfdb\n",
    "from scipy.io import loadmat\n",
    "import os\n",
    "import scipy as sp"
   ]
  },
  {
   "cell_type": "code",
   "execution_count": 63,
   "id": "9f8d2cb8",
   "metadata": {},
   "outputs": [],
   "source": [
    "def load_recording(record_name):\n",
    "    signal_file_true = record_name + '.mat'\n",
    "    # Allow either the record name or the header filename.\n",
    "    root, ext = os.path.splitext(record_name)\n",
    "    if ext=='':\n",
    "        header_file = record_name + '.hea'\n",
    "    else:\n",
    "        header_file = record_name\n",
    "\n",
    "    # Load the header file.\n",
    "    if not os.path.isfile(header_file):\n",
    "        raise FileNotFoundError('{} recording not found.'.format(record_name))\n",
    "\n",
    "    with open(header_file, 'r') as f:\n",
    "        header = [l.strip() for l in f.readlines() if l.strip()]\n",
    "\n",
    "    # Parse the header file.\n",
    "    record_name = None\n",
    "    num_signals = None\n",
    "    sampling_frequency = None\n",
    "    num_samples = None\n",
    "    signal_files = list()\n",
    "    gains = list()\n",
    "    offsets = list()\n",
    "    channels = list()\n",
    "    initial_values = list()\n",
    "    checksums = list()\n",
    "    \n",
    "    for i, l in enumerate(header):\n",
    "        arrs = [arr.strip() for arr in l.split(' ')]\n",
    "        # Parse the record line.\n",
    "        if i==0:\n",
    "            record_name = arrs[0]\n",
    "            num_signals = int(arrs[1])\n",
    "            sampling_frequency = float(arrs[2])\n",
    "            num_samples = int(arrs[3])\n",
    "        # Parse the signal specification lines.\n",
    "        elif i<13:\n",
    "            signal_file = arrs[0]\n",
    "            gain = float(arrs[2].split('/')[0])\n",
    "            offset = int(arrs[4])\n",
    "            initial_value = int(arrs[5])\n",
    "            checksum = int(arrs[6])\n",
    "            channel = arrs[8]\n",
    "            signal_files.append(signal_file)\n",
    "            gains.append(gain)\n",
    "            offsets.append(offset)\n",
    "            initial_values.append(initial_value)\n",
    "            checksums.append(checksum)\n",
    "            channels.append(channel)\n",
    "        elif i==15:\n",
    "            labels = arrs[1]\n",
    "            \n",
    "\n",
    "    # Check that the header file only references one signal file. WFDB format  allows for multiple signal files, but we have not\n",
    "    # implemented that here for simplicity.\n",
    "    num_signal_files = len(set(signal_files))\n",
    "    if num_signal_files!=1:\n",
    "        raise NotImplementedError('The header file {}'.format(header_file) \\\n",
    "            + ' references {} signal files; one signal file expected.'.format(num_signal_files))\n",
    "\n",
    "    # Load the signal file.\n",
    "    data = np.asarray(sp.io.loadmat(signal_file_true)['val'])\n",
    "\n",
    "    # Check that the dimensions of the signal data in the signal file is consistent with the dimensions for the signal data given\n",
    "    # in the header file.\n",
    "    num_channels = len(channels)\n",
    "    if np.shape(data)!=(num_channels, num_samples):\n",
    "        raise ValueError('The header file {}'.format(header_file) \\\n",
    "            + ' is inconsistent with the dimensions of the signal file.')\n",
    "\n",
    "    # Rescale the signal data using the ADC gains and ADC offsets.\n",
    "    rescaled_data = np.zeros(np.shape(data), dtype=np.float32)\n",
    "    for i in range(num_channels):\n",
    "        rescaled_data[i, :] = (data[i, :]-offsets[i])/gains[i]\n",
    "\n",
    "    return rescaled_data, sampling_frequency, channels, labels"
   ]
  },
  {
   "cell_type": "code",
   "execution_count": 64,
   "id": "adbfd568",
   "metadata": {},
   "outputs": [],
   "source": [
    "rescaled_data, sampling_frequency, channels, labels = load_recording('12lead/WFDBRecords/01/010/JS00001')"
   ]
  },
  {
   "cell_type": "code",
   "execution_count": 65,
   "id": "31ef2c31",
   "metadata": {},
   "outputs": [
    {
     "name": "stdout",
     "output_type": "stream",
     "text": [
      "<class 'numpy.ndarray'> (12, 5000)\n",
      "[[-0.254 -0.254 -0.254 ... -0.034  0.024  0.005]\n",
      " [ 0.264  0.264  0.264 ... -0.068 -0.049 -0.034]\n",
      " [ 0.517  0.517  0.517 ... -0.034 -0.073 -0.039]\n",
      " ...\n",
      " [ 0.81   0.81   0.81  ... -0.205 -0.2   -0.171]\n",
      " [ 0.81   0.81   0.81  ... -0.2   -0.195 -0.166]\n",
      " [ 0.527  0.527  0.527 ...  0.102  0.093  0.112]]\n"
     ]
    }
   ],
   "source": [
    "print(type(rescaled_data), rescaled_data.shape)\n",
    "print(rescaled_data)"
   ]
  },
  {
   "cell_type": "code",
   "execution_count": 66,
   "id": "68f18709",
   "metadata": {},
   "outputs": [
    {
     "name": "stdout",
     "output_type": "stream",
     "text": [
      "<class 'float'>\n",
      "500.0\n"
     ]
    }
   ],
   "source": [
    "print(type(sampling_frequency))\n",
    "print(sampling_frequency)"
   ]
  },
  {
   "cell_type": "code",
   "execution_count": 67,
   "id": "ccd9f6c8",
   "metadata": {},
   "outputs": [
    {
     "name": "stdout",
     "output_type": "stream",
     "text": [
      "<class 'list'>\n",
      "['I', 'II', 'III', 'aVR', 'aVL', 'aVF', 'V1', 'V2', 'V3', 'V4', 'V5', 'V6']\n"
     ]
    }
   ],
   "source": [
    "print(type(channels))\n",
    "print(channels)"
   ]
  },
  {
   "cell_type": "code",
   "execution_count": 68,
   "id": "1f202a38",
   "metadata": {},
   "outputs": [
    {
     "name": "stdout",
     "output_type": "stream",
     "text": [
      "<class 'str'>\n",
      "164889003,59118001,164934002\n"
     ]
    }
   ],
   "source": [
    "print(type(labels))\n",
    "print(labels)"
   ]
  }
 ],
 "metadata": {
  "kernelspec": {
   "display_name": "Python 3 (ipykernel)",
   "language": "python",
   "name": "python3"
  },
  "language_info": {
   "codemirror_mode": {
    "name": "ipython",
    "version": 3
   },
   "file_extension": ".py",
   "mimetype": "text/x-python",
   "name": "python",
   "nbconvert_exporter": "python",
   "pygments_lexer": "ipython3",
   "version": "3.9.6"
  }
 },
 "nbformat": 4,
 "nbformat_minor": 5
}
